{
 "cells": [
  {
   "cell_type": "markdown",
   "id": "310fea4d-f8d9-4cb8-9e99-b30464a4693d",
   "metadata": {},
   "source": [
    "# My Jupyter Notebook on Anaconda"
   ]
  },
  {
   "cell_type": "markdown",
   "id": "9e49724b-54b5-4d01-9d19-80f6806044a8",
   "metadata": {},
   "source": [
    "__Name: Siththarththan Arunthavabalan__\n",
    " <br> Desired Occupation: Data Scientist"
   ]
  },
  {
   "cell_type": "markdown",
   "id": "c28dc425-29b1-4e5d-9d90-3ee9fea1ff38",
   "metadata": {},
   "source": [
    "_I am interest in Data Science because there is a lot of fun in analyzing and find the insights of the data. It will kindle the curiosity as we can explore more and more insight as we dig deeper and deeper_"
   ]
  },
  {
   "cell_type": "markdown",
   "id": "08dc49c3-327b-47df-8798-1684edb24671",
   "metadata": {},
   "source": [
    "### how to print in python"
   ]
  },
  {
   "cell_type": "code",
   "execution_count": 1,
   "id": "65b741ba-db52-475f-8f74-1d859ea15c59",
   "metadata": {},
   "outputs": [
    {
     "name": "stdout",
     "output_type": "stream",
     "text": [
      "this is my first jupyter notebook for IBM Data Science\n"
     ]
    }
   ],
   "source": [
    "# execute the cell\n",
    "print('this is my first jupyter notebook for IBM Data Science')"
   ]
  },
  {
   "cell_type": "markdown",
   "id": "a3e54410-93c4-46a4-b10a-b8406829590a",
   "metadata": {},
   "source": [
    "* Bullet item 1\n",
    "* Bullet item 2\n",
    "\n",
    "<br> a horizontal line below\n",
    "\n",
    "***\n",
    "\n",
    "|column 1|column 2|\n",
    "|--------|--------|\n",
    "|row 1,1 |row ,2  |\n",
    "\n",
    "<br> LaTeX\n",
    "\n",
    "$e^x =\\sum_{i=0}^\\infty\\frac{1}{i!}x^i $"
   ]
  },
  {
   "cell_type": "code",
   "execution_count": null,
   "id": "0f2c3519-4cdf-463c-8b8d-bd13f914d42c",
   "metadata": {},
   "outputs": [],
   "source": []
  }
 ],
 "metadata": {
  "kernelspec": {
   "display_name": "Python 3 (ipykernel)",
   "language": "python",
   "name": "python3"
  },
  "language_info": {
   "codemirror_mode": {
    "name": "ipython",
    "version": 3
   },
   "file_extension": ".py",
   "mimetype": "text/x-python",
   "name": "python",
   "nbconvert_exporter": "python",
   "pygments_lexer": "ipython3",
   "version": "3.9.13"
  }
 },
 "nbformat": 4,
 "nbformat_minor": 5
}
